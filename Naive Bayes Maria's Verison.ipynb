{
 "cells": [
  {
   "cell_type": "code",
   "execution_count": 1,
   "metadata": {},
   "outputs": [
    {
     "name": "stderr",
     "output_type": "stream",
     "text": [
      "/var/folders/wp/79200sx97gq3ybg9qqyv3h140000gn/T/ipykernel_19428/2437674508.py:11: DtypeWarning: Columns (60) have mixed types. Specify dtype option on import or set low_memory=False.\n",
      "  df = pd.read_csv(\"Data/Election data.csv\")\n"
     ]
    }
   ],
   "source": [
    "import numpy as np\n",
    "import pandas as pd\n",
    "from sklearn.model_selection import train_test_split\n",
    "from sklearn.feature_extraction.text import CountVectorizer\n",
    "from sklearn.naive_bayes import MultinomialNB\n",
    "from nltk.sentiment.vader import SentimentIntensityAnalyzer\n",
    "from sklearn.naive_bayes import GaussianNB\n",
    "\n",
    "\n",
    "# Load the dataset\n",
    "df = pd.read_csv(\"Data/Election data.csv\")\n",
    "#Drop column F_INTFREQ\n",
    "df.drop('F_INTFREQ', axis=1, inplace=True)"
   ]
  },
  {
   "cell_type": "code",
   "execution_count": 2,
   "metadata": {},
   "outputs": [
    {
     "name": "stdout",
     "output_type": "stream",
     "text": [
      "[1 0]\n"
     ]
    },
    {
     "name": "stderr",
     "output_type": "stream",
     "text": [
      "/var/folders/wp/79200sx97gq3ybg9qqyv3h140000gn/T/ipykernel_19428/963057324.py:4: SettingWithCopyWarning: \n",
      "A value is trying to be set on a copy of a slice from a DataFrame.\n",
      "Try using .loc[row_indexer,col_indexer] = value instead\n",
      "\n",
      "See the caveats in the documentation: https://pandas.pydata.org/pandas-docs/stable/user_guide/indexing.html#returning-a-view-versus-a-copy\n",
      "  df_filtered['F_VOTEGEN2020'] = df_filtered['F_VOTEGEN2020'].map({'Joe Biden, the Democrat': 1, 'Donald Trump, the Republican': 0})\n"
     ]
    }
   ],
   "source": [
    "# Filter out rows where F_VOTEGEN2020 is not 'Joe Biden, the Democrat' or 'Donald Trump, the Republican'\n",
    "df_filtered = df[(df['F_VOTEGEN2020'] == 'Joe Biden, the Democrat') | (df['F_VOTEGEN2020'] == 'Donald Trump, the Republican')]\n",
    "# Replace string values with integers\n",
    "df_filtered['F_VOTEGEN2020'] = df_filtered['F_VOTEGEN2020'].map({'Joe Biden, the Democrat': 1, 'Donald Trump, the Republican': 0})\n",
    "\n",
    "# Reset the index after dropping rows\n",
    "df_filtered.reset_index(drop=True, inplace=True)\n",
    "\n",
    "df = df_filtered\n",
    "\n",
    "print(df['F_VOTEGEN2020'].unique())"
   ]
  },
  {
   "cell_type": "code",
   "execution_count": 3,
   "metadata": {},
   "outputs": [],
   "source": [
    "# Replace 'Response out of range' with NaN in specified columns\n",
    "df['THERMBIDEN_W116'].replace('Response out of range', np.nan, inplace=True)\n",
    "df['THERMTRUMP_W116'].replace('Response out of range', np.nan, inplace=True)\n",
    "\n",
    "# Convert the columns to float type\n",
    "df['THERMBIDEN_W116'] = df['THERMBIDEN_W116'].astype(float)\n",
    "df['THERMTRUMP_W116'] = df['THERMTRUMP_W116'].astype(float)\n",
    "\n",
    "# Drop rows with NaN values from the specified columns\n",
    "df.dropna(subset=['THERMBIDEN_W116', 'THERMTRUMP_W116'], inplace=True)\n",
    "\n",
    "# print(df[['THERMBIDEN_W116', 'THERMTRUMP_W116']].apply(pd.Series.unique))"
   ]
  },
  {
   "cell_type": "code",
   "execution_count": 9,
   "metadata": {},
   "outputs": [
    {
     "name": "stdout",
     "output_type": "stream",
     "text": [
      "Train Score: 0.9357049608355091\n",
      "Test Score: 0.9387222946544981\n"
     ]
    }
   ],
   "source": [
    "# Define features (X) and target variable (Y)\n",
    "vectorizer = CountVectorizer()\n",
    "# X = df[['political_affiliation', 'THERMBIDEN_W116', 'THERMTRUMP_W116', 'satisfaction_with_direction', 'CANDHOUSAT_W116', 'government_regulation_opinion', 'INSTN_MIL_W116', 'assistance_programs_opinion']]\n",
    "# X = df[['THERMBIDEN_W116', 'THERMTRUMP_W116','CANDHOUSAT_W116', 'INSTN_MIL_W116']]\n",
    "X = df[['THERMBIDEN_W116', 'THERMTRUMP_W116']]\n",
    "Y = df['F_VOTEGEN2020']\n",
    "\n",
    "# Model Training\n",
    "X_train, X_test, y_train, y_test = train_test_split(X, Y, test_size=0.2, random_state=42)\n",
    "nb_model = MultinomialNB()\n",
    "\n",
    "nb_model.fit(X_train, y_train)\n",
    "# Model Evaluation\n",
    "train_score = nb_model.score(X_train, y_train)\n",
    "test_score = nb_model.score(X_test, y_test)\n",
    "print(\"Train Score:\", train_score)\n",
    "print(\"Test Score:\", test_score)\n"
   ]
  }
 ],
 "metadata": {
  "kernelspec": {
   "display_name": "base",
   "language": "python",
   "name": "python3"
  },
  "language_info": {
   "codemirror_mode": {
    "name": "ipython",
    "version": 3
   },
   "file_extension": ".py",
   "mimetype": "text/x-python",
   "name": "python",
   "nbconvert_exporter": "python",
   "pygments_lexer": "ipython3",
   "version": "3.11.5"
  }
 },
 "nbformat": 4,
 "nbformat_minor": 2
}
