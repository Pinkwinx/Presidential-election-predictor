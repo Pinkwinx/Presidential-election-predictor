{
 "cells": [
  {
   "cell_type": "code",
   "execution_count": 1,
   "metadata": {},
   "outputs": [
    {
     "name": "stderr",
     "output_type": "stream",
     "text": [
      "/var/folders/wp/79200sx97gq3ybg9qqyv3h140000gn/T/ipykernel_23883/2437674508.py:11: DtypeWarning: Columns (60) have mixed types. Specify dtype option on import or set low_memory=False.\n",
      "  df = pd.read_csv(\"Data/Election data.csv\")\n"
     ]
    }
   ],
   "source": [
    "import numpy as np\n",
    "import pandas as pd\n",
    "from sklearn.model_selection import train_test_split\n",
    "from sklearn.feature_extraction.text import CountVectorizer\n",
    "from sklearn.naive_bayes import MultinomialNB\n",
    "from nltk.sentiment.vader import SentimentIntensityAnalyzer\n",
    "from sklearn.naive_bayes import GaussianNB\n",
    "\n",
    "\n",
    "# Load the dataset\n",
    "df = pd.read_csv(\"Data/Election data.csv\")\n",
    "#Drop column F_INTFREQ\n",
    "df.drop('F_INTFREQ', axis=1, inplace=True)"
   ]
  },
  {
   "cell_type": "code",
   "execution_count": 2,
   "metadata": {},
   "outputs": [],
   "source": [
    "#XCITIZEN\n",
    "#REPCONGEX\n",
    "#DEMCONGEX"
   ]
  },
  {
   "cell_type": "code",
   "execution_count": 3,
   "metadata": {},
   "outputs": [
    {
     "name": "stdout",
     "output_type": "stream",
     "text": [
      "[1 0]\n"
     ]
    },
    {
     "name": "stderr",
     "output_type": "stream",
     "text": [
      "/var/folders/wp/79200sx97gq3ybg9qqyv3h140000gn/T/ipykernel_23883/963057324.py:4: SettingWithCopyWarning: \n",
      "A value is trying to be set on a copy of a slice from a DataFrame.\n",
      "Try using .loc[row_indexer,col_indexer] = value instead\n",
      "\n",
      "See the caveats in the documentation: https://pandas.pydata.org/pandas-docs/stable/user_guide/indexing.html#returning-a-view-versus-a-copy\n",
      "  df_filtered['F_VOTEGEN2020'] = df_filtered['F_VOTEGEN2020'].map({'Joe Biden, the Democrat': 1, 'Donald Trump, the Republican': 0})\n"
     ]
    }
   ],
   "source": [
    "# Filter out rows where F_VOTEGEN2020 is not 'Joe Biden, the Democrat' or 'Donald Trump, the Republican'\n",
    "df_filtered = df[(df['F_VOTEGEN2020'] == 'Joe Biden, the Democrat') | (df['F_VOTEGEN2020'] == 'Donald Trump, the Republican')]\n",
    "# Replace string values with integers\n",
    "df_filtered['F_VOTEGEN2020'] = df_filtered['F_VOTEGEN2020'].map({'Joe Biden, the Democrat': 1, 'Donald Trump, the Republican': 0})\n",
    "\n",
    "# Reset the index after dropping rows\n",
    "df_filtered.reset_index(drop=True, inplace=True)\n",
    "\n",
    "df = df_filtered\n",
    "\n",
    "print(df['F_VOTEGEN2020'].unique())"
   ]
  },
  {
   "cell_type": "code",
   "execution_count": 4,
   "metadata": {},
   "outputs": [
    {
     "name": "stdout",
     "output_type": "stream",
     "text": [
      "[2. 3. 1. 4. 0.]\n",
      "<class 'pandas.core.series.Series'>\n",
      "RangeIndex: 3859 entries, 0 to 3858\n",
      "Series name: CANDHOUSAT_W116\n",
      "Non-Null Count  Dtype  \n",
      "--------------  -----  \n",
      "3859 non-null   float64\n",
      "dtypes: float64(1)\n",
      "memory usage: 30.3 KB\n",
      "None\n"
     ]
    }
   ],
   "source": [
    "# Mapping categorical values to numerical values\n",
    "df['CANDHOUSAT_W116'] = df['CANDHOUSAT_W116'].map({\n",
    "    'Refused': 0,\n",
    "    'Not at all satisfied': 1,\n",
    "    'Not too satisfied': 2,\n",
    "    'Somewhat satisfied': 3,\n",
    "    'Very satisfied': 4\n",
    "})\n",
    "\n",
    "# Resetting the index after dropping rows\n",
    "df.reset_index(drop=True, inplace=True)\n",
    "\n",
    "# Converting the column to float type\n",
    "df['CANDHOUSAT_W116'] = df['CANDHOUSAT_W116'].astype(float)\n",
    "\n",
    "# Printing unique values and info\n",
    "print(df['CANDHOUSAT_W116'].unique())\n",
    "print(df['CANDHOUSAT_W116'].info())\n",
    "\n"
   ]
  },
  {
   "cell_type": "code",
   "execution_count": 5,
   "metadata": {},
   "outputs": [
    {
     "name": "stdout",
     "output_type": "stream",
     "text": [
      "<class 'pandas.core.series.Series'>\n",
      "Index: 3831 entries, 0 to 3858\n",
      "Series name: THERMTRUMP_W116\n",
      "Non-Null Count  Dtype  \n",
      "--------------  -----  \n",
      "3831 non-null   float64\n",
      "dtypes: float64(1)\n",
      "memory usage: 59.9 KB\n",
      "None\n"
     ]
    }
   ],
   "source": [
    "# Replace 'Response out of range' with NaN in specified columns\n",
    "df['THERMBIDEN_W116'].replace('Response out of range', np.nan, inplace=True)\n",
    "df['THERMTRUMP_W116'].replace('Response out of range', np.nan, inplace=True)\n",
    "\n",
    "# Convert the columns to float type\n",
    "df['THERMBIDEN_W116'] = df['THERMBIDEN_W116'].astype(float)\n",
    "df['THERMTRUMP_W116'] = df['THERMTRUMP_W116'].astype(float)\n",
    "\n",
    "# Drop rows with NaN values from the specified columns\n",
    "df.dropna(subset=['THERMBIDEN_W116', 'THERMTRUMP_W116'], inplace=True)\n",
    "\n",
    "# print(df[['THERMBIDEN_W116', 'THERMTRUMP_W116']].apply(pd.Series.unique))\n",
    "print(df['THERMTRUMP_W116'].info())\n"
   ]
  },
  {
   "cell_type": "code",
   "execution_count": 6,
   "metadata": {},
   "outputs": [
    {
     "name": "stdout",
     "output_type": "stream",
     "text": [
      "[2. 1. 0.]\n",
      "<class 'pandas.core.series.Series'>\n",
      "RangeIndex: 1916 entries, 0 to 1915\n",
      "Series name: INSTN_MIL_W116\n",
      "Non-Null Count  Dtype  \n",
      "--------------  -----  \n",
      "1916 non-null   float64\n",
      "dtypes: float64(1)\n",
      "memory usage: 15.1 KB\n",
      "None\n"
     ]
    }
   ],
   "source": [
    "#Drop all NA values\n",
    "df.dropna(subset=['INSTN_MIL_W116'], inplace=True)\n",
    "\n",
    "\n",
    "df['INSTN_MIL_W116'] = df['INSTN_MIL_W116'].map({\n",
    "    'Refused': 0,\n",
    "    'Negative effect': 1,\n",
    "    'Positive effect': 2\n",
    "})\n",
    "\n",
    "df.reset_index(drop=True, inplace=True)\n",
    "\n",
    "df['INSTN_MIL_W116'] = df['INSTN_MIL_W116'].astype(float)\n",
    "\n",
    "print(df['INSTN_MIL_W116'].unique())\n",
    "print(df['INSTN_MIL_W116'].info())"
   ]
  },
  {
   "cell_type": "code",
   "execution_count": 10,
   "metadata": {},
   "outputs": [
    {
     "name": "stdout",
     "output_type": "stream",
     "text": [
      "Train Score: 0.9373368146214099\n",
      "Test Score: 0.9192708333333334\n"
     ]
    }
   ],
   "source": [
    "# Define features (X) and target variable (Y)\n",
    "vectorizer = CountVectorizer()\n",
    "# X = df[['political_affiliation', 'THERMBIDEN_W116', 'THERMTRUMP_W116', 'satisfaction_with_direction', 'CANDHOUSAT_W116', 'government_regulation_opinion', 'INSTN_MIL_W116', 'assistance_programs_opinion']]\n",
    "X = df[['THERMBIDEN_W116', 'THERMTRUMP_W116','CANDHOUSAT_W116', 'INSTN_MIL_W116']]\n",
    "Y = df['F_VOTEGEN2020']\n",
    "\n",
    "# Model Training\n",
    "X_train, X_test, y_train, y_test = train_test_split(X, Y, test_size=0.2, random_state=42)\n",
    "nb_model = MultinomialNB()\n",
    "\n",
    "nb_model.fit(X_train, y_train)\n",
    "# Model Evaluation\n",
    "train_score = nb_model.score(X_train, y_train)\n",
    "test_score = nb_model.score(X_test, y_test)\n",
    "print(\"Train Score:\", train_score)\n",
    "print(\"Test Score:\", test_score)\n"
   ]
  },
  {
   "cell_type": "code",
   "execution_count": 12,
   "metadata": {},
   "outputs": [
    {
     "name": "stdout",
     "output_type": "stream",
     "text": [
      "[1 0 0 ... 1 1 1]\n"
     ]
    }
   ],
   "source": [
    "# Assuming you have your new data stored in a DataFrame called 'new_data'\n",
    "new_X = df[['THERMBIDEN_W116', 'THERMTRUMP_W116', 'CANDHOUSAT_W116', 'INSTN_MIL_W116']]\n",
    "\n",
    "# Make predictions\n",
    "predictions = nb_model.predict(new_X)\n",
    "\n",
    "# Now 'predictions' contains the predicted outcomes\n",
    "print(predictions)\n"
   ]
  },
  {
   "cell_type": "code",
   "execution_count": 16,
   "metadata": {},
   "outputs": [
    {
     "name": "stdout",
     "output_type": "stream",
     "text": [
      "Count of zeros: 834\n",
      "Count of ones: 1082\n",
      "Biden wins\n"
     ]
    }
   ],
   "source": [
    "from collections import Counter\n",
    "\n",
    "# Assuming 'predictions' is the output of your model predictions\n",
    "prediction_counts = Counter(predictions)\n",
    "\n",
    "# Get the count of zeros and ones\n",
    "count_zeros = prediction_counts[0]\n",
    "count_ones = prediction_counts[1]\n",
    "\n",
    "print(\"Count of zeros:\", count_zeros)\n",
    "print(\"Count of ones:\", count_ones)\n",
    "\n",
    "if count_zeros > count_ones:\n",
    "    print(\"Trump wins\")\n",
    "elif count_ones > count_zeros:\n",
    "    print(\"Biden wins\")\n",
    "\n"
   ]
  }
 ],
 "metadata": {
  "kernelspec": {
   "display_name": "base",
   "language": "python",
   "name": "python3"
  },
  "language_info": {
   "codemirror_mode": {
    "name": "ipython",
    "version": 3
   },
   "file_extension": ".py",
   "mimetype": "text/x-python",
   "name": "python",
   "nbconvert_exporter": "python",
   "pygments_lexer": "ipython3",
   "version": "3.11.5"
  }
 },
 "nbformat": 4,
 "nbformat_minor": 2
}
