{
 "cells": [
  {
   "cell_type": "code",
   "execution_count": null,
   "id": "5ef1363b",
   "metadata": {},
   "outputs": [],
   "source": [
    "import numpy as np\n",
    "import pandas as pd\n",
    "from sklearn.model_selection import train_test_split\n",
    "from sklearn.feature_extraction.text import CountVectorizer\n",
    "from sklearn.naive_bayes import MultinomialNB\n",
    "from nltk.sentiment.vader import SentimentIntensityAnalyzer\n",
    "\n",
    "# Sample Twitter data (replace with your own dataset)\n",
    "tweets = pd.DataFrame({\n",
    "    'text': ['I love Biden!', 'Trump is terrible!', 'Biden for president!', 'Make America great again!'],\n",
    "    'candidate': ['Biden', 'Trump', 'Biden', 'Trump'],\n",
    "    'sentiment': [1, -1, 1, -1]  # 1 for positive sentiment, -1 for negative sentiment\n",
    "})\n",
    "\n",
    "# Feature Engineering\n",
    "vectorizer = CountVectorizer()\n",
    "X_text = vectorizer.fit_transform(tweets['text'])\n",
    "X_candidate = pd.get_dummies(tweets['candidate'], drop_first=True)\n",
    "X = pd.concat([pd.DataFrame(X_text.toarray(), columns=vectorizer.get_feature_names()), X_candidate], axis=1)\n",
    "y = tweets['sentiment']\n",
    "\n",
    "# Model Training\n",
    "X_train, X_test, y_train, y_test = train_test_split(X, y, test_size=0.2, random_state=42)\n",
    "nb_model = MultinomialNB()\n",
    "nb_model.fit(X_train, y_train)\n",
    "\n",
    "# Model Evaluation\n",
    "train_score = nb_model.score(X_train, y_train)\n",
    "test_score = nb_model.score(X_test, y_test)\n",
    "print(\"Train Score:\", train_score)\n",
    "print(\"Test Score:\", test_score)\n",
    "\n",
    "# Forecasting\n",
    "new_tweets = ['I support Biden!', 'Trump is doing great!', 'Biden 2024!', 'Vote Trump!']\n",
    "X_new_text = vectorizer.transform(new_tweets)\n",
    "X_new_candidate = pd.DataFrame([[1, 0], [0, 1], [1, 0], [0, 1]], columns=X_candidate.columns)  # Assuming binary encoding\n",
    "X_new = pd.concat([pd.DataFrame(X_new_text.toarray(), columns=vectorizer.get_feature_names()), X_new_candidate], axis=1)\n",
    "predictions = nb_model.predict(X_new)\n",
    "predicted_sentiments = ['Positive' if pred > 0 else 'Negative' for pred in predictions]\n",
    "print(\"Predicted Sentiments:\", predicted_sentiments)\n"
   ]
  }
 ],
 "metadata": {
  "kernelspec": {
   "display_name": "Python 3 (ipykernel)",
   "language": "python",
   "name": "python3"
  },
  "language_info": {
   "codemirror_mode": {
    "name": "ipython",
    "version": 3
   },
   "file_extension": ".py",
   "mimetype": "text/x-python",
   "name": "python",
   "nbconvert_exporter": "python",
   "pygments_lexer": "ipython3",
   "version": "3.11.5"
  }
 },
 "nbformat": 4,
 "nbformat_minor": 5
}
